{
 "cells": [
  {
   "cell_type": "markdown",
   "metadata": {},
   "source": [
    "Project Topic: On a rolling basis, what is a 3-asset minimum variance portfolio comprising of NIFTY, 0-5-year bonds and gold?\n",
    "\n",
    "Team Members: Aditi Rastogi and Poulami Dutta\n",
    "\n",
    "Project Proposal: \n",
    "\n",
    "•\tConsider three asset classes: \n",
    "\n",
    "1)\tEquity:  We will take Nifty Index.\n",
    "2)\t0-5-year bonds: We will take Central GOI AAA rated bonds having 1 year to maturity, 2 years to maturity etc.\n",
    "3)\tGold: We will take gold ETFs.\n",
    "\n",
    "•\tTake 10-15 securities under each class and collect historical data for each of them.\n",
    "•\tFrequency of data should be same for all securities.\n",
    "•\tPrepare portfolios by combining these securities and find the risk-return profile for each portfolio. For this analysis, we are planning to use models like Sharpe single index model, Multi factor model etc. \n",
    "\n",
    "Outcome: Our aim will be to minimise the risk and find an optimum portfolio.\n",
    "\n",
    "\n"
   ]
  },
  {
   "cell_type": "markdown",
   "metadata": {},
   "source": [
    "This notebook was created using [pluto](http://pluto.studio). Learn more [here](https://github.com/shyams80/pluto)"
   ]
  }
 ],
 "metadata": {
  "kernelspec": {
   "display_name": "Python 3",
   "language": "python",
   "name": "python3"
  },
  "language_info": {
   "codemirror_mode": {
    "name": "ipython",
    "version": 3
   },
   "file_extension": ".py",
   "mimetype": "text/x-python",
   "name": "python",
   "nbconvert_exporter": "python",
   "pygments_lexer": "ipython3",
   "version": "3.6.8"
  }
 },
 "nbformat": 4,
 "nbformat_minor": 2
}
